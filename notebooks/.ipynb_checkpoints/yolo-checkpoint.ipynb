{
 "cells": [
  {
   "cell_type": "code",
   "execution_count": null,
   "id": "ac2db66d-3d21-4cd1-add3-3c037f60d3f1",
   "metadata": {},
   "outputs": [],
   "source": [
    "pip in"
   ]
  }
 ],
 "metadata": {
  "kernelspec": {
   "display_name": "Anaconda Environment",
   "language": "python",
   "name": "anaconda_env"
  },
  "language_info": {
   "codemirror_mode": {
    "name": "ipython",
    "version": 3
   },
   "file_extension": ".py",
   "mimetype": "text/x-python",
   "name": "python",
   "nbconvert_exporter": "python",
   "pygments_lexer": "ipython3",
   "version": "3.11.7"
  }
 },
 "nbformat": 4,
 "nbformat_minor": 5
}
