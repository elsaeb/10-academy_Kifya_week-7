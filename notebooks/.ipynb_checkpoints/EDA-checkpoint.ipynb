{
 "cells": [
  {
   "cell_type": "code",
   "execution_count": 1,
   "id": "025316ea-9b51-4b38-91e2-6f4b358cba45",
   "metadata": {},
   "outputs": [],
   "source": [
    "import pandas as pd \n",
    "import numpy as np "
   ]
  },
  {
   "cell_type": "code",
   "execution_count": 3,
   "id": "0fec00d5-2c6f-41e1-81fc-92968897993e",
   "metadata": {},
   "outputs": [],
   "source": [
    "data = pd.read_csv('/home/elizabeth/Downloads/10-academy_Kifya_week-7/Data/telegram_medical_data.csv')"
   ]
  },
  {
   "cell_type": "code",
   "execution_count": null,
   "id": "3f5f4c40-585a-476d-be28-f261db873683",
   "metadata": {},
   "outputs": [],
   "source": [
    "da"
   ]
  }
 ],
 "metadata": {
  "kernelspec": {
   "display_name": "Anaconda Environment",
   "language": "python",
   "name": "anaconda_env"
  },
  "language_info": {
   "codemirror_mode": {
    "name": "ipython",
    "version": 3
   },
   "file_extension": ".py",
   "mimetype": "text/x-python",
   "name": "python",
   "nbconvert_exporter": "python",
   "pygments_lexer": "ipython3",
   "version": "3.11.7"
  }
 },
 "nbformat": 4,
 "nbformat_minor": 5
}
